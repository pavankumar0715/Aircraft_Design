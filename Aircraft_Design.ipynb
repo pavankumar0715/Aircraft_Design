{
  "cells": [
    {
      "cell_type": "markdown",
      "metadata": {
        "id": "view-in-github",
        "colab_type": "text"
      },
      "source": [
        "<a href=\"https://colab.research.google.com/github/pavankumar0715/Aircraft_Design/blob/main/Aircraft_Design.ipynb\" target=\"_parent\"><img src=\"https://colab.research.google.com/assets/colab-badge.svg\" alt=\"Open In Colab\"/></a>"
      ]
    },
    {
      "cell_type": "code",
      "execution_count": null,
      "metadata": {
        "colab": {
          "base_uri": "https://localhost:8080/"
        },
        "id": "1uoC_sXC2Mod",
        "outputId": "6d81c857-3950-4414-8761-74fc42895093"
      },
      "outputs": [
        {
          "name": "stdout",
          "output_type": "stream",
          "text": [
            "ni\n",
            "31282.023452437163\n"
          ]
        }
      ],
      "source": [
        "def We_Wo(Wo):\n",
        "  Wo_new = 0.566*(Wo**-7.53E-7)\n",
        "  return Wo_new\n",
        "\n",
        "Wp = 30000 #kg\n",
        "Wcr = 400 #kg\n",
        "Wf_Wo = 0.25\n",
        "Wo = 150000 #kg\n",
        "Wo_new = 0\n",
        "counter = 0\n",
        "while(Wo - Wo_new > 0.001 and counter<100):\n",
        "  # print(\"ni\")\n",
        "  Wo_new = (Wp+Wcr)/(1-Wf_Wo-We_Wo(Wo))\n",
        "  counter=counter+1\n",
        "  Wo = Wo_new\n",
        "print(Wo)\n"
      ]
    },
    {
      "cell_type": "code",
      "execution_count": null,
      "metadata": {
        "colab": {
          "base_uri": "https://localhost:8080/"
        },
        "id": "TEd6N92DrnNa",
        "outputId": "5fbc46b5-87f8-4b27-d65c-c40bed562f21"
      },
      "outputs": [
        {
          "name": "stdout",
          "output_type": "stream",
          "text": [
            "[1.00000000e+00 2.23044185e-16]\n"
          ]
        }
      ],
      "source": [
        "import numpy as np\n",
        "from sklearn.linear_model import LinearRegression\n",
        "Wo = np.array([164000,233000,141000,200000,186880,267619,142000,188240,210000])\n",
        "We = np.array([113999,125000,78600,100000,82377,109328,64700,82377,158733])\n",
        "We_wo = We/Wo\n",
        "log_Wo = np.log(Wo)\n",
        "log_We_wo = np.log(We_wo)\n",
        "# print(log_Wo,log_We_wo)\n",
        "WNew=[]\n",
        "for i in range(9):\n",
        "  WNew.append([log_Wo[i],log_We_wo[i]])\n",
        "# print(WNew)\n",
        "\n",
        "reg = LinearRegression().fit(WNew,log_Wo)\n",
        "\n",
        "print(reg.coef_)"
      ]
    },
    {
      "cell_type": "code",
      "execution_count": null,
      "metadata": {
        "colab": {
          "base_uri": "https://localhost:8080/",
          "height": 304
        },
        "id": "Z_ox0N4ZlSSr",
        "outputId": "39c45369-dfc6-48b4-9d48-7214077c9fc6"
      },
      "outputs": [
        {
          "data": {
            "image/png": "[encoded data removed]",
            "text/plain": [
              "<Figure size 432x288 with 1 Axes>"
            ]
          },
          "metadata": {},
          "output_type": "display_data"
        },
        {
          "name": "stdout",
          "output_type": "stream",
          "text": [
            "-0.16731186322179978 3.9754663151189424\n"
          ]
        }
      ],
      "source": [
        "import numpy as np\n",
        "import matplotlib.pyplot as plt\n",
        "\n",
        "Wo = np.array([164000,233000,141000,200000,186880,267619,142000,188240,210000])\n",
        "We = np.array([113999,125000,78600,100000,82377,109328,64700,82377,158733])\n",
        "We_wo = We/Wo\n",
        "log_Wo = np.log(Wo)\n",
        "log_We_wo = np.log(We_wo)\n",
        "X=log_Wo\n",
        "y=log_We_wo\n",
        "\n",
        "# Calculate slope and intercept of the line\n",
        "slope, intercept = np.polyfit(X, y, 1)\n",
        "\n",
        "# Create the line equation\n",
        "line_eq = f'y = {slope:.2f}x + {intercept:.2f}'\n",
        "\n",
        "# Plot the data points and the best fit line\n",
        "plt.scatter(X, y)\n",
        "plt.plot(X, slope*X + intercept, color='red', label=line_eq)\n",
        "plt.legend()\n",
        "plt.xlabel(r\"log($W_o$)\")\n",
        "plt.ylabel(r\"log(${W_e}/{W_o}$)\")\n",
        "# plt.grid()\n",
        "plt.xlim([11.8,12.6])\n",
        "plt.ylim([-1.1,-.3])\n",
        "\n",
        "\n",
        "\n",
        "# Display the plot\n",
        "plt.show()\n",
        "\n",
        "L = slope\n",
        "A = np.exp(intercept)\n",
        "print(L,A)"
      ]
    },
    {
      "cell_type": "code",
      "execution_count": null,
      "metadata": {
        "colab": {
          "base_uri": "https://localhost:8080/",
          "height": 217
        },
        "id": "TsNHf7-Ds-bt",
        "outputId": "b6869a46-4448-4719-92bd-6349135a8d0a"
      },
      "outputs": [
        {
          "ename": "IndexError",
          "evalue": "ignored",
          "output_type": "error",
          "traceback": [
            "\u001b[0;31m---------------------------------------------------------------------------\u001b[0m",
            "\u001b[0;31mIndexError\u001b[0m                                Traceback (most recent call last)",
            "\u001b[0;32m<ipython-input-31-52cee6781fbe>\u001b[0m in \u001b[0;36m<module>\u001b[0;34m\u001b[0m\n\u001b[1;32m      9\u001b[0m \u001b[0mW\u001b[0m \u001b[0;34m=\u001b[0m \u001b[0mnp\u001b[0m\u001b[0;34m.\u001b[0m\u001b[0marray\u001b[0m\u001b[0;34m(\u001b[0m\u001b[0;36m10\u001b[0m\u001b[0;34m)\u001b[0m\u001b[0;34m\u001b[0m\u001b[0;34m\u001b[0m\u001b[0m\n\u001b[1;32m     10\u001b[0m \u001b[0;32mfor\u001b[0m \u001b[0mi\u001b[0m \u001b[0;32min\u001b[0m \u001b[0mrange\u001b[0m\u001b[0;34m(\u001b[0m\u001b[0;36m10\u001b[0m\u001b[0;34m)\u001b[0m\u001b[0;34m:\u001b[0m\u001b[0;34m\u001b[0m\u001b[0;34m\u001b[0m\u001b[0m\n\u001b[0;32m---> 11\u001b[0;31m   \u001b[0mW\u001b[0m\u001b[0;34m[\u001b[0m\u001b[0mi\u001b[0m\u001b[0;34m]\u001b[0m \u001b[0;34m=\u001b[0m \u001b[0;36m30400\u001b[0m\u001b[0;34m/\u001b[0m\u001b[0;34m(\u001b[0m\u001b[0;36m0.75\u001b[0m\u001b[0;34m-\u001b[0m\u001b[0;34m(\u001b[0m\u001b[0;36m3.97\u001b[0m\u001b[0;34m*\u001b[0m\u001b[0;34m(\u001b[0m\u001b[0mWo_init\u001b[0m\u001b[0;34m**\u001b[0m\u001b[0mL\u001b[0m\u001b[0;34m)\u001b[0m\u001b[0;34m)\u001b[0m\u001b[0;34m)\u001b[0m\u001b[0;34m\u001b[0m\u001b[0;34m\u001b[0m\u001b[0m\n\u001b[0m\u001b[1;32m     12\u001b[0m   \u001b[0mWo_init\u001b[0m \u001b[0;34m=\u001b[0m \u001b[0mW\u001b[0m\u001b[0;34m[\u001b[0m\u001b[0mi\u001b[0m\u001b[0;34m]\u001b[0m\u001b[0;34m\u001b[0m\u001b[0;34m\u001b[0m\u001b[0m\n",
            "\u001b[0;31mIndexError\u001b[0m: too many indices for array: array is 0-dimensional, but 1 were indexed"
          ]
        }
      ],
      "source": [
        "# import matplotlib.pyplot as plt\n",
        "\n",
        "# A = 3.97\n",
        "# L = -0.167\n",
        "# Wp = 30000 #kg\n",
        "# Wcr = 400 #kg\n",
        "# Wf_Wo = 0.25\n",
        "# Wo_init =150000\n",
        "# W = np.array(10)\n",
        "# for i in range(10):\n",
        "#   W[i] = 30400/(0.75-(3.97*(Wo_init**L)))\n",
        "#   Wo_init = W[i]\n"
      ]
    },
    {
      "cell_type": "code",
      "execution_count": null,
      "metadata": {
        "id": "6aa32qCvjl9H"
      },
      "outputs": [],
      "source": [
        "X = [[12.00762171,]]"
      ]
    },
    {
      "cell_type": "code",
      "execution_count": null,
      "metadata": {
        "colab": {
          "base_uri": "https://localhost:8080/",
          "height": 483
        },
        "id": "asNrPBkZzFib",
        "outputId": "2f00a478-6a42-4892-ea9a-e1b229b62e66"
      },
      "outputs": [
        {
          "ename": "TypeError",
          "evalue": "ignored",
          "output_type": "error",
          "traceback": [
            "\u001b[0;31m---------------------------------------------------------------------------\u001b[0m",
            "\u001b[0;31mTypeError\u001b[0m                                 Traceback (most recent call last)",
            "\u001b[0;32m<ipython-input-13-556a8e6aadf1>\u001b[0m in \u001b[0;36m<module>\u001b[0;34m\u001b[0m\n\u001b[1;32m     58\u001b[0m \u001b[0mW\u001b[0m \u001b[0;34m=\u001b[0m \u001b[0mnp\u001b[0m\u001b[0;34m.\u001b[0m\u001b[0mlinspace\u001b[0m\u001b[0;34m(\u001b[0m\u001b[0;36m0\u001b[0m\u001b[0;34m,\u001b[0m\u001b[0;36m4000\u001b[0m\u001b[0;34m,\u001b[0m\u001b[0;36m8000\u001b[0m\u001b[0;34m)\u001b[0m\u001b[0;34m\u001b[0m\u001b[0;34m\u001b[0m\u001b[0m\n\u001b[1;32m     59\u001b[0m \u001b[0meuler\u001b[0m\u001b[0;34m=\u001b[0m\u001b[0mmath\u001b[0m\u001b[0;34m.\u001b[0m\u001b[0me\u001b[0m\u001b[0;34m\u001b[0m\u001b[0;34m\u001b[0m\u001b[0m\n\u001b[0;32m---> 60\u001b[0;31m \u001b[0mZ\u001b[0m \u001b[0;34m=\u001b[0m \u001b[0;34m(\u001b[0m\u001b[0meuler\u001b[0m\u001b[0;34m**\u001b[0m\u001b[0mM\u001b[0m\u001b[0;34m[\u001b[0m\u001b[0;36m1\u001b[0m\u001b[0;34m]\u001b[0m\u001b[0;34m)\u001b[0m\u001b[0;34m(\u001b[0m\u001b[0mW\u001b[0m\u001b[0;34m**\u001b[0m\u001b[0;34m(\u001b[0m\u001b[0mM\u001b[0m\u001b[0;34m[\u001b[0m\u001b[0;36m0\u001b[0m\u001b[0;34m]\u001b[0m\u001b[0;34m)\u001b[0m\u001b[0;34m)\u001b[0m\u001b[0;34m\u001b[0m\u001b[0;34m\u001b[0m\u001b[0m\n\u001b[0m\u001b[1;32m     61\u001b[0m \u001b[0mplt\u001b[0m\u001b[0;34m.\u001b[0m\u001b[0mplot\u001b[0m\u001b[0;34m(\u001b[0m\u001b[0mW\u001b[0m\u001b[0;34m,\u001b[0m\u001b[0mZ\u001b[0m\u001b[0;34m,\u001b[0m\u001b[0mcolor\u001b[0m\u001b[0;34m=\u001b[0m\u001b[0;34m'orange'\u001b[0m\u001b[0;34m,\u001b[0m\u001b[0mmarker\u001b[0m\u001b[0;34m=\u001b[0m\u001b[0;34m's'\u001b[0m\u001b[0;34m,\u001b[0m\u001b[0mlabel\u001b[0m\u001b[0;34m=\u001b[0m\u001b[0;34m'Fitted Curve'\u001b[0m\u001b[0;34m,\u001b[0m\u001b[0mlinestyle\u001b[0m\u001b[0;34m=\u001b[0m\u001b[0;34m'-.'\u001b[0m\u001b[0;34m,\u001b[0m\u001b[0mmarkersize\u001b[0m\u001b[0;34m=\u001b[0m\u001b[0;34m'0.05'\u001b[0m\u001b[0;34m)\u001b[0m\u001b[0;34m\u001b[0m\u001b[0;34m\u001b[0m\u001b[0m\n\u001b[1;32m     62\u001b[0m \u001b[0mplt\u001b[0m\u001b[0;34m.\u001b[0m\u001b[0mtitle\u001b[0m\u001b[0;34m(\u001b[0m\u001b[0;34m\"Empty weight vs overall weight\"\u001b[0m\u001b[0;34m,\u001b[0m\u001b[0mcolor\u001b[0m\u001b[0;34m=\u001b[0m\u001b[0;34m'Black'\u001b[0m\u001b[0;34m,\u001b[0m\u001b[0mfontweight\u001b[0m\u001b[0;34m=\u001b[0m\u001b[0;34m'bold'\u001b[0m\u001b[0;34m)\u001b[0m\u001b[0;34m\u001b[0m\u001b[0;34m\u001b[0m\u001b[0m\n",
            "\u001b[0;31mTypeError\u001b[0m: 'numpy.ndarray' object is not callable"
          ]
        },
        {
          "data": {
            "image/png": "[encoded data removed]",
            "text/plain": [
              "<Figure size 432x288 with 1 Axes>"
            ]
          },
          "metadata": {},
          "output_type": "display_data"
        }
      ],
      "source": [
        "# #code for regressing we,wo datapoints\n",
        "\n",
        "# import numpy as np\n",
        "# import matplotlib.pyplot as plt\n",
        "# import math\n",
        "\n",
        "# def Transpose(A):\n",
        "#     B = np.zeros((len(A[0]),len(A)))\n",
        "#     for i in range(0,len(A)):\n",
        "#         for j in range(0,len(A[1])):\n",
        "#             B[j][i] = A[i][j]\n",
        "#     return B\n",
        "\n",
        "# def Mat_Pro(A,B):\n",
        "#     if len(A[1])== len(B):\n",
        "#         C = np.zeros((len(A),len(B[0])))\n",
        "#         for i in range(0,len(A)):\n",
        "#             for j in range(0,len(B[0])):\n",
        "#                 for k in range(0,len(B)):\n",
        "#                     C[i][j] += A[i][k]*B[k][j]\n",
        "#         return C\n",
        "#     else:\n",
        "#         return \"Invalid Input\"\n",
        "\n",
        "# def Sca_Pro(a,A):\n",
        "#     C = np.zeros((len(A),len(A[0])))\n",
        "#     for i in range(0,len(A)):\n",
        "#         for j in range(0,len(A[0])):\n",
        "#             C[i][j] += a*A[i][j]\n",
        "#     return C\n",
        "\n",
        "# def Inverse(A):\n",
        "#     B = np.zeros((2,2))\n",
        "#     det = A[0][0]*A[1][1] - A[0][1]*A[1][0]\n",
        "#     B[0][0] = A[1][1]\n",
        "#     B[0][1] = -1*A[0][1]\n",
        "#     B[1][0] = -1*A[1][0]\n",
        "#     B[1][1] = A[0][0]\n",
        "#     B = Sca_Pro((1/det),B)\n",
        "#     return B\n",
        "\n",
        "# Wo = [1224,2721.552,3175]\n",
        "# We = [644,1632.931,2300]        #Wisk Cora, Jaunt Rosa, Beta Alia 250c\n",
        "\n",
        "# X = np.zeros((len(Wo),2))\n",
        "# Y = np.zeros((len(We),1))\n",
        "\n",
        "# for i in range(0,len(Wo)):\n",
        "#     X[i][0] = np.log(Wo[i])\n",
        "#     X[i][1] = 1\n",
        "#     Y[i][0] = np.log(We[i])\n",
        "\n",
        "# M = []\n",
        "\n",
        "# M = Mat_Pro(Inverse(Mat_Pro(Transpose(X),X)),Mat_Pro(Transpose(X),Y))\n",
        "\n",
        "# plt.scatter(Wo,We,label='Datapoints')\n",
        "# W = np.linspace(0,4000,8000)\n",
        "# euler=math.e\n",
        "# Z = (euler**M[1])(W**(M[0]))\n",
        "# plt.plot(W,Z,color='orange',marker='s',label='Fitted Curve',linestyle='-.',markersize='0.05')\n",
        "# plt.title(\"Empty weight vs overall weight\",color='Black',fontweight='bold')\n",
        "# plt.xlabel('Overall Weight in N',color='Black')\n",
        "# plt.ylabel('Empty Weight in N')\n",
        "# plt.legend()\n",
        "# plt.show()\n",
        "\n",
        "# M[1] = np.e**M[1]\n",
        "# print(M)\n",
        "# print(f\"Regressed function is y = {M[1]}x*{M[0]}\")"
      ]
    },
    {
      "cell_type": "code",
      "execution_count": null,
      "metadata": {
        "colab": {
          "base_uri": "https://localhost:8080/",
          "height": 304
        },
        "id": "VB0yIzW4dhGZ",
        "outputId": "0c96f38f-055a-4db1-f19f-c808844d0708"
      },
      "outputs": [
        {
          "data": {
            "image/png": "[encoded data removed]",
            "text/plain": [
              "<Figure size 432x288 with 1 Axes>"
            ]
          },
          "metadata": {},
          "output_type": "display_data"
        },
        {
          "name": "stdout",
          "output_type": "stream",
          "text": [
            "-0.13764473245088002 2.5110157836709086\n"
          ]
        }
      ],
      "source": [
        "import numpy as np\n",
        "import matplotlib.pyplot as plt\n",
        "from google.colab import files\n",
        "\n",
        "We_new = np.array([105059,114816,70740,93184,73437,97016,56456,73831,148173])\n",
        "Wo = np.array([164000,233000,141000,200000,186880,267619,142000,188240,210000])\n",
        "We_new_Wo = We_new/Wo\n",
        "log_Wo = np.log(Wo)\n",
        "log_We_new_Wo = np.log(We_new_Wo)\n",
        "\n",
        "# Example data\n",
        "# X = np.array([1, 2, 3, 4, 5])\n",
        "# y = np.array([2, 4, 5, 4, 5])\n",
        "X=log_Wo\n",
        "y=log_We_new_Wo\n",
        "\n",
        "# Calculate slope and intercept of the line\n",
        "slope, intercept = np.polyfit(X, y, 1)\n",
        "\n",
        "# Create the line equation\n",
        "line_eq = f'y = {slope:.2f}x + {intercept:.2f}'\n",
        "\n",
        "# Plot the data points and the best fit line\n",
        "plt.scatter(X, y)\n",
        "plt.plot(X, slope*X + intercept, color='red', label=line_eq)\n",
        "plt.legend()\n",
        "plt.xlabel(r\"log($W_o$)\")\n",
        "plt.ylabel(r\"log(${W_e}/{W_o}$)\")\n",
        "# plt.grid()\n",
        "plt.xlim([11.8,12.6])\n",
        "plt.ylim([-1.1,-.3])\n",
        "\n",
        "# Display the plot\n",
        "plt.show()\n",
        "\n",
        "L = slope\n",
        "A = np.exp(intercept)\n",
        "print(L,A)"
      ]
    },
    {
      "cell_type": "markdown",
      "metadata": {
        "id": "MhwpclW6VjPB"
      },
      "source": [
        "#Wing Loading"
      ]
    },
    {
      "cell_type": "markdown",
      "metadata": {
        "id": "d_XKTjgcVrvZ"
      },
      "source": [
        "## Preliminary Calculations"
      ]
    },
    {
      "cell_type": "code",
      "execution_count": null,
      "metadata": {
        "colab": {
          "base_uri": "https://localhost:8080/"
        },
        "id": "lE9HU56NmMsH",
        "outputId": "93995121-795e-4f0a-dc4c-4cd96a4d434d"
      },
      "outputs": [
        {
          "name": "stdout",
          "output_type": "stream",
          "text": [
            "1.4986\n",
            "CDo =  0.015669733012826675\n",
            "Cfe =  0.002772755043760979\n",
            "F1 =  0.007674362329584084\n",
            "F2 =  1.0382572962358925e-06\n",
            "K =  0.04590022427395442\n",
            "F3 for cruise speed =  6.040375061731591e-10\n"
          ]
        }
      ],
      "source": [
        "import numpy as np\n",
        "\n",
        "#Collected data\n",
        "AR = 8.80\n",
        "l = 45.13\n",
        "lamda = 0.283\n",
        "b = 43.89\n",
        "t_c = 0.118\n",
        "dia = 5.64\n",
        "Svt_S = 0.2064\n",
        "Sht_S = 0.2922\n",
        "Sweep = 28 #degree\n",
        "Wo = 171913\n",
        "S = 219\n",
        "W_S = Wo*9.81/S\n",
        "\n",
        "#Calculations\n",
        "Kt = 1 + Svt_S + Sht_S\n",
        "S_wet = 2*S + np.pi*dia*l #wetted area of the wing\n",
        "S_wet_S = S_wet/S\n",
        "print(Kt)\n",
        "\n",
        "#obtaining formula for CDo using formula in 3.57 of nptel lec\n",
        "CDo = 0.02686*(S**(-0.1))\n",
        "print(\"CDo = \",CDo)\n",
        "\n",
        "C_fe = CDo/S_wet_S\n",
        "print(\"Cfe = \",C_fe)\n",
        "\n",
        "#finding chord lenght at root and tip\n",
        "c_r = (2*S)/(b*(1+lamda))\n",
        "c_t = lamda*c_r\n",
        "\n",
        "#equation of local chord\n",
        "#c = c_r - (c_r-c_t)/(b/2)*y = 9.86 - 0.329y\n",
        "\n",
        "b_new = b/2 - dia/2     #semispan of exposed wing\n",
        "c_r_new = c_r-(c_r-c_t)*2/b*(dia/2)  #root chord exposed\n",
        "S_exp = b_new*(c_r_new + c_t)\n",
        "S_wet_Wing = 2*S_exp*(1+1.2*t_c)\n",
        "\n",
        "#finding F1\n",
        "F1 = Kt*C_fe*S_wet_Wing/S\n",
        "print(\"F1 = \",F1)\n",
        "\n",
        "#finding F2\n",
        "F2 = (CDo-F1)/W_S\n",
        "print(\"F2 = \",F2)\n",
        "\n",
        "#finding F3\n",
        "K = 1.0447 + 0.2078/(np.cos(Sweep))**2\n",
        "K = K/(np.pi*AR)\n",
        "print(\"K = \",K)\n",
        "#for cruise speed\n",
        "v_cruise = 236.388\n",
        "rho_sealvl = 1.225\n",
        "rho = 0.312 #at 12km altitude\n",
        "q_cruise = 0.5*0.312*v_cruise**2\n",
        "F3 = K/q_cruise**2\n",
        "print(\"F3 for cruise speed = \",F3)"
      ]
    },
    {
      "cell_type": "markdown",
      "metadata": {
        "id": "ztUX-9fS6Dpw"
      },
      "source": [
        "##Landing Distance Parameter for W/S"
      ]
    },
    {
      "cell_type": "code",
      "execution_count": null,
      "metadata": {
        "colab": {
          "base_uri": "https://localhost:8080/",
          "height": 320
        },
        "id": "TQii5Ibw6Eji",
        "outputId": "43273ae6-daf7-408c-947e-dc874fa4212f"
      },
      "outputs": [
        {
          "name": "stdout",
          "output_type": "stream",
          "text": [
            "3773.555921566655\n",
            "3396.200329409989 4150.91151372332\n"
          ]
        },
        {
          "data": {
            "image/png": "[encoded data removed]",
            "text/plain": [
              "<Figure size 432x288 with 1 Axes>"
            ]
          },
          "metadata": {},
          "output_type": "display_data"
        }
      ],
      "source": [
        "import numpy as np\n",
        "import pandas as pd\n",
        "import matplotlib.pyplot as plt\n",
        "from sklearn.linear_model import LinearRegression\n",
        "\n",
        "#formula used is P = 0.8563*rho_0*sigma*C_L_Max*S_land\n",
        "C_L_Max = 2.38\n",
        "rho_0 = 1.225\n",
        "sigma_sea_level = 1\n",
        "#sigma_10000ft = 0.73878\n",
        "s_land = np.linspace(0,2000,100)\n",
        "#s_land_10000ft = 1943.5403\n",
        "s_land_sea = 1511.5127\n",
        "w_0 = 157026.4387\n",
        "\n",
        "\n",
        "def p_sea(s):\n",
        "    p_s = 0.8563*rho_0*sigma_sea_level*C_L_Max*s\n",
        "    #p_10000 = 0.8563*rho_0*sigma_10000ft*C_L_Max*s_land_10000ft\n",
        "    return p_s\n",
        "\n",
        "# for plot\n",
        "p1 = p_sea(s_land)\n",
        "P_sea = p_sea(s_land_sea)\n",
        "print(P_sea)\n",
        "p_sea_aft = p_sea(s_land_sea-0.1*s_land_sea)\n",
        "p_sea_forward = p_sea(s_land_sea+0.1*s_land_sea)\n",
        "s_land_forward = s_land_sea+0.1*s_land_sea\n",
        "print(p_sea_aft, p_sea_forward)\n",
        "plt.axvspan(xmin=p_sea_aft, xmax= p_sea_forward, ymin=0, ymax= s_land_sea, color = 'red', alpha = 0.5)\n",
        "plt.plot(p1, s_land, color='red', label = 'Sea-Level')\n",
        "plt.hlines(y=s_land_sea,xmin=0, xmax=P_sea, color='red', linestyles='solid', linewidth = 0.75)\n",
        "plt.hlines(y=s_land_sea - 0.1*s_land_sea,xmin=0, xmax=p_sea_aft, color='red', linestyles='dashed', linewidth=0.5)\n",
        "plt.hlines(y=s_land_sea + 0.1*s_land_sea,xmin=0, xmax=p_sea_forward, color='red', linestyles='dashed', linewidth=0.5)\n",
        "plt.vlines(x = P_sea, ymin=0, ymax=s_land_sea, color = 'red', linestyle='dashed',label = '$p_{land}$')\n",
        "plt.text(0,s_land_sea+20,'Landing Length at Sea-Level',fontsize=8)\n",
        "plt.xlabel('$p_{land}(N/m^2)$')\n",
        "plt.ylabel('$S_{land}(m)$')\n",
        "plt.legend()\n",
        "plt.show()"
      ]
    },
    {
      "cell_type": "markdown",
      "metadata": {
        "id": "fNEAjABV6YQi"
      },
      "source": [
        "##R/C Optimisation for W/s (Wing Loading for minimum rate of climb)"
      ]
    },
    {
      "cell_type": "code",
      "execution_count": null,
      "metadata": {
        "colab": {
          "base_uri": "https://localhost:8080/",
          "height": 300
        },
        "id": "EatxYEdM62TP",
        "outputId": "f3c44a8a-c584-42b5-853d-810bbb93f943"
      },
      "outputs": [
        {
          "name": "stdout",
          "output_type": "stream",
          "text": [
            "[16349.89976872  8479.61418015]\n"
          ]
        },
        {
          "data": {
            "image/png": "[encoded data removed]",
            "text/plain": [
              "<Figure size 432x288 with 1 Axes>"
            ]
          },
          "metadata": {},
          "output_type": "display_data"
        }
      ],
      "source": [
        "import numpy as np\n",
        "import pandas as pd\n",
        "import matplotlib.pyplot as plt\n",
        "from scipy.optimize import fsolve\n",
        "from sklearn.linear_model import LinearRegression\n",
        "#formula used for calculating v_opt = (vc/rho*F2)^1/3\n",
        "#for p_opt(R/C) = 1/2*rho*(Vc/rho*F2)^2/3*sqrt(F1/k)\n",
        "F1 = 0.008961195220789926\n",
        "F2 = 1.1607198561818156e-06\n",
        "K = 0.04995655554636076\n",
        "v_c = 12.7 #m/s\n",
        "rho = 1.225\n",
        "# to be designed at sea level, sea level has maximum wing loading\n",
        "v_opt = np.power(v_c/(rho*F2),1/3)\n",
        "p_opt = 0.5*rho*np.power(v_c/(rho*F2),2/3)*np.sqrt(F1/K)\n",
        "p_axis = np.linspace(100,20000,1000)\n",
        "\n",
        "\n",
        "def t_rc_min(p,v):\n",
        "    factor = 0.5*rho*v*v\n",
        "    t = v_c/v + factor*(2*F1/p + F2)\n",
        "    return t\n",
        "\n",
        "t_opt_min = t_rc_min(p_opt,v_opt)\n",
        "t_opt_min_aft = t_opt_min-t_opt_min*0.1\n",
        "t_opt_min_forward = t_opt_min+t_opt_min*0.1\n",
        "\n",
        "def t_rc_min_opt(variable):\n",
        "    (p1,p2) = variable\n",
        "    factor = 0.5*rho*v_opt*v_opt\n",
        "    t_aft = v_c/v_opt + factor*(2*F1/p1 + F2) - t_opt_min_aft\n",
        "    t_forward = v_c/v_opt + factor*(2*F1/p2 + F2) - t_opt_min_forward\n",
        "    return [t_aft, t_forward]\n",
        "\n",
        "p1 = fsolve(t_rc_min_opt, (2000,4000))\n",
        "print(p1)\n",
        "\n",
        "y = t_rc_min(p_axis,100)\n",
        "x = p_axis\n",
        "# plt.vlines(x = p_opt, ymin=0, ymax=t_opt_min, linestyles='--', linewidth = 0.5)\n",
        "# plt.hlines(y= t_opt_min_aft,xmin = 0, xmax=p1[0], linestyles='--', linewidth = 0.2)\n",
        "# plt.hlines(y= t_opt_min_forward,xmin = 0, xmax=p1[1], linestyles='--', linewidth = 0.2)\n",
        "# plt.hlines(y= t_opt_min,xmin = 0, xmax=p_opt, linestyles='--',linewidth = 0.5)\n",
        "#plt.text(p_opt+20,0,'$P_{opt}$', rotation=90, fontsize=8)\n",
        "plt.axvspan(xmin = p1[1], xmax = p1[0],  color = 'cyan', alpha=0.2)\n",
        "plt.plot(x,y, color = 'cyan')\n",
        "plt.xlim([0,20000])\n",
        "plt.ylim([0,0.4])\n",
        "plt.xlabel('Wing Loading')\n",
        "plt.ylabel('Thrust loading')\n",
        "# plt.grid(linestyle = '--')\n",
        "plt.show()"
      ]
    },
    {
      "cell_type": "markdown",
      "metadata": {
        "id": "_vdFJ6hLD2a5"
      },
      "source": [
        "##Wing Loading For absolute ceiling"
      ]
    },
    {
      "cell_type": "code",
      "execution_count": null,
      "metadata": {
        "colab": {
          "base_uri": "https://localhost:8080/",
          "height": 424
        },
        "id": "LNQYQboe8lSR",
        "outputId": "376aa736-93a2-457e-c7ba-e5116e6187f5"
      },
      "outputs": [
        {
          "name": "stdout",
          "output_type": "stream",
          "text": [
            "[5436.53370985]\n",
            "t_Hmax = [0.05524168]\n",
            "t_H = [0.05524168]\n",
            "[8199.48502037] [2936.72061937]\n",
            "[4644.95061118] [6553.34081068]\n"
          ]
        },
        {
          "name": "stderr",
          "output_type": "stream",
          "text": [
            "/usr/local/lib/python3.9/dist-packages/matplotlib/patches.py:1117: VisibleDeprecationWarning: Creating an ndarray from ragged nested sequences (which is a list-or-tuple of lists-or-tuples-or ndarrays with different lengths or shapes) is deprecated. If you meant to do this, you must specify 'dtype=object' when creating the ndarray.\n",
            "  xy = np.asarray(xy)\n"
          ]
        },
        {
          "data": {
            "image/png": "[encoded data removed]",
            "text/plain": [
              "<Figure size 432x288 with 1 Axes>"
            ]
          },
          "metadata": {},
          "output_type": "display_data"
        }
      ],
      "source": [
        "import math\n",
        "from scipy.optimize import fsolve\n",
        "import matplotlib.pyplot as plt\n",
        "\n",
        "h_max = 13100 #m\n",
        "rho_h_max = 0.267 #kg/m3\n",
        "#velocity coresponding to (L/D)max\n",
        "CL_LD_max = np.sqrt(CDo/K)\n",
        "q_Hmax = W_S/CL_LD_max\n",
        "#t_Hmax = sqrt(4*K*(F1+F2*P))\n",
        "# #t_H = 2*q_Hmax*(F1/p + F2)\n",
        "\n",
        "#function for getting the optimum wing loading\n",
        "def f(p):\n",
        "  F1 =  0.008961195220789926\n",
        "  F2 =  1.1607198561818156e-06\n",
        "  K =  0.04995655554636076\n",
        "  q_Hmax = 9832.81013065033\n",
        "  t_Hmax = math.sqrt(4*K*(F1+F2*p))\n",
        "  t_H = 2*q_Hmax*(F1/p + F2)\n",
        "  return t_Hmax-t_H\n",
        "\n",
        "#optimum wing loading\n",
        "x = fsolve(f,1500)\n",
        "print(x)\n",
        "\n",
        "t_Hmax = np.sqrt(4*K*(F1+F2*x))\n",
        "t_H = 2*q_Hmax*(F1/x + F2)\n",
        "print(\"t_Hmax =\",t_Hmax)\n",
        "print(\"t_H =\",t_H)\n",
        "\n",
        "#Wing loading limit of t_Hmax\n",
        "t_Hmax1 = t_Hmax + 0.1*t_Hmax\n",
        "t_Hmax2 = t_Hmax - 0.1*t_Hmax\n",
        "p_Hmax1 = (t_Hmax1**2/(4*K)-F1)/F2\n",
        "p_Hmax2 = (t_Hmax2**2/(4*K)-F1)/F2\n",
        "print(p_Hmax1, p_Hmax2)\n",
        "\n",
        "#Wing loading limit of t_H\n",
        "t_H1 = t_H + 0.1*t_H\n",
        "t_H2 = t_H - 0.1*t_H\n",
        "p_H1 = F1/(t_H1/(2*q_Hmax)-F2)\n",
        "p_H2 = F1/(t_H2/(2*q_Hmax)-F2)\n",
        "print(p_H1, p_H2)\n",
        "\n",
        "def t_Hmax(p):\n",
        "  F1 =  0.008961195220789926\n",
        "  F2 =  1.1607198561818156e-06\n",
        "  K =  0.04995655554636076\n",
        "  t = np.sqrt(4*K*(F1+F2*p))\n",
        "  return t\n",
        "\n",
        "def t_H(p):\n",
        "  F1 =  0.008961195220789926\n",
        "  F2 =  1.1607198561818156e-06\n",
        "  q_Hmax = 9832.81013065033\n",
        "  t = 2*q_Hmax*(F1/p + F2)\n",
        "  return t\n",
        "\n",
        "x = np.linspace(100,20000,1000)\n",
        "y1 = t_Hmax(x)\n",
        "y2 = t_H(x)\n",
        "plt.plot(x,y1, color = 'green')\n",
        "# plt.fill_between(x, y1, color='blue', alpha=0.5)\n",
        "plt.plot(x,y2, color='purple')\n",
        "# plt.fill_between(x, y2, color='yellow', alpha=0.5)\n",
        "plt.axvspan(xmin = p_Hmax2, xmax = p_Hmax1,  color = 'green', alpha=0.2)\n",
        "plt.axvspan(xmin = p_H1, xmax = p_H2,  color = 'purple', alpha=0.2)\n",
        "plt.xlabel(\"Wing Loading\")\n",
        "plt.ylabel(\"Thrust Loading\")\n",
        "plt.ylim([0,0.4])\n",
        "plt.xlim([0,20000])\n",
        "# plt.grid(linestyle = '--')\n",
        "plt.show()\n"
      ]
    },
    {
      "cell_type": "markdown",
      "metadata": {
        "id": "v4yFS0TfTD7Y"
      },
      "source": [
        "## Wing Loading for minimum rate of climb"
      ]
    },
    {
      "cell_type": "markdown",
      "metadata": {
        "id": "L_Rh_RKHSeuA"
      },
      "source": [
        "##Wing Loading for cruise range"
      ]
    },
    {
      "cell_type": "code",
      "execution_count": null,
      "metadata": {
        "colab": {
          "base_uri": "https://localhost:8080/",
          "height": 335
        },
        "id": "F3IZJSxGGOIR",
        "outputId": "1a35ee10-c36c-4401-e34e-35676dff7f10"
      },
      "outputs": [
        {
          "name": "stdout",
          "output_type": "stream",
          "text": [
            "0.05073147371491894\n",
            "3700.005073473783\n",
            "[2606.58615161] [5252.09478892]\n"
          ]
        },
        {
          "data": {
            "image/png": "[encoded data removed]",
            "text/plain": [
              "<Figure size 432x288 with 1 Axes>"
            ]
          },
          "metadata": {},
          "output_type": "display_data"
        }
      ],
      "source": [
        "import numpy as np\n",
        "R=7000 #range in km\n",
        "TSFC=0.0000165 #in SI\n",
        "\n",
        "#Function for getting fuel fraction\n",
        "def W_f(p):\n",
        "  return 1000*R*TSFC*((rho_0*0.5*q_cruise)**0.5)*((F1/p)+F2+F3*p)\n",
        "\n",
        "x = np.linspace(100,20000,1000)\n",
        "y = W_f(x)\n",
        "Wf_min=min(y)\n",
        "print(Wf_min)\n",
        "p_cr = np.sqrt(F1/F3)\n",
        "print(p_cr)\n",
        "y_tol = y_min*1.05\n",
        "\n",
        "def Wf(p):\n",
        "  return y_tol - 1000*R*TSFC*((rho_0*0.5*q_cruise)**0.5)*((F1/p)+F2+F3*p)\n",
        "\n",
        "p_R1 = fsolve(Wf,1000)\n",
        "p_R2 = fsolve(Wf,10000)\n",
        "print(p_R1,p_R2)\n",
        "\n",
        "plt.plot(x,y, color = 'yellow')\n",
        "#plt.plot(x,y_tol)\n",
        "\n",
        "# idx = np.argwhere(np.diff(np.sign(y_tol - y))).flatten()\n",
        "# plt.plot(x[idx], y[idx], 'ro')\n",
        "# plt.axvspan(xmin=x[0], xmax=x[1])\n",
        "plt.axvspan(xmin = p_R1, xmax = p_R2, color = 'yellow', alpha=0.2)\n",
        "plt.xlabel(\"Wing Loading\")\n",
        "plt.ylabel(\"Thrust Loading\")\n",
        "plt.ylim([0,0.4])\n",
        "plt.xlim([0,20000])\n",
        "plt.grid(linestyle = '--')\n",
        "plt.show()\n"
      ]
    },
    {
      "cell_type": "markdown",
      "metadata": {
        "id": "axoYmsKLReJ6"
      },
      "source": [
        "## Wing loading for Cruise speed"
      ]
    },
    {
      "cell_type": "code",
      "execution_count": null,
      "metadata": {
        "colab": {
          "base_uri": "https://localhost:8080/",
          "height": 370
        },
        "id": "s797TrPWRhod",
        "outputId": "f9dc73e6-c253-43c4-a3e7-2f1805ca6328"
      },
      "outputs": [
        {
          "name": "stdout",
          "output_type": "stream",
          "text": [
            "8881.29707839506\n",
            "3761.517818319293\n",
            "0.05262514605541284\n",
            "0.057887660660954125\n",
            "6162.693229215786 2295.914427551998\n"
          ]
        },
        {
          "data": {
            "image/png": "[encoded data removed]",
            "text/plain": [
              "<Figure size 432x288 with 1 Axes>"
            ]
          },
          "metadata": {},
          "output_type": "display_data"
        }
      ],
      "source": [
        "v = 851 #kmph\n",
        "v = 851*5/18 #m/s\n",
        "h = 11887.2 #m\n",
        "rho = 0.317872 #kg/m3\n",
        "qp = 0.5*rho*v**2\n",
        "F3 = K/(qp**2)\n",
        "\n",
        "def t_v(p):\n",
        "  t = qp*(F1/p + F2 + F3*p)\n",
        "  return t\n",
        "\n",
        "\n",
        "p_v = np.sqrt(F1/F3)\n",
        "print(p_v)\n",
        "t_v_min = t_v(p_v)#qp*(2*F1/p_v + F2)\n",
        "print(t_v_min)\n",
        "\n",
        "t_v1 = t_v_min + 0.1*t_v_min\n",
        "p_v1 = ((t_v1/qp - F2) + np.sqrt((F2-t_v1/qp)**2 - 4*F3*F1))/(2*F3)\n",
        "p_v2 = ((t_v1/qp - F2) - np.sqrt((F2-t_v1/qp)**2 - 4*F3*F1))/(2*F3)\n",
        "print(p_v1,p_v2)\n",
        "\n",
        "\n",
        "\n",
        "x = np.linspace(100,20000,1000)\n",
        "y = t_v(x)\n",
        "plt.plot(x,y, color='blue')\n",
        "plt.axvspan(xmin = p_v2, xmax = p_v1, color = 'blue', alpha=0.2)\n",
        "plt.ylim([0,0.4])\n",
        "plt.xlim([0,20000])\n",
        "plt.xlabel(\"Wing Loading\")\n",
        "plt.ylabel(\"Thrust Loading\")\n",
        "plt.grid(linestyle = '--')\n",
        "plt.show()"
      ]
    },
    {
      "cell_type": "code",
      "execution_count": null,
      "metadata": {
        "colab": {
          "base_uri": "https://localhost:8080/",
          "height": 347
        },
        "id": "5NnsSmc9jcE4",
        "outputId": "1b5cf860-6fe2-41ab-d520-b64623a74ac2"
      },
      "outputs": [
        {
          "data": {
            "image/png": "[encoded data removed]",
            "text/plain": [
              "<Figure size 432x288 with 1 Axes>"
            ]
          },
          "metadata": {},
          "output_type": "display_data"
        },
        {
          "name": "stdout",
          "output_type": "stream",
          "text": [
            "4537.786684746182 11018.502305830241\n",
            "7071.0404502620095\n",
            "0.055241684655154125\n"
          ]
        }
      ],
      "source": [
        "#@title Wing Loading For Maximum velocity\n",
        "\n",
        "import numpy as np\n",
        "import matplotlib.pyplot as plt\n",
        "\n",
        "vcruise = 851*5/18\n",
        "vmax = 1.2*vcruise\n",
        "h = 11887.2\n",
        "rho = 0.317872\n",
        "q = 0.5*rho*vmax*vmax\n",
        "Cd0 = 0.01527148784661254\n",
        "K =  0.04995655554636076\n",
        "\n",
        "def t(p):\n",
        "  result = ((q*Cd0)/p) + ((K*p)/q)\n",
        "  return result\n",
        "\n",
        "minp = q*np.sqrt((Cd0/K))\n",
        "mint = t(minp)\n",
        "\n",
        "x = np.linspace(100,20000,1000)\n",
        "y = t(x)\n",
        "z = 0*x + mint\n",
        "tol = 1.1\n",
        "theta = mint*(tol)\n",
        "w = 0*x + theta\n",
        "u = (theta - np.sqrt(theta**2 - (4*K*Cd0)))/(2*(K/q))\n",
        "v = (theta + np.sqrt(theta**2 - (4*K*Cd0)))/(2*(K/q))\n",
        "bound = np.linspace(u,v,1000)\n",
        "bound2 = t(bound)\n",
        "zero = 0*bound\n",
        "\n",
        "plt.plot(x,y,color='deeppink',marker='p',linestyle='-',linewidth='1',markersize=0.005,label='Wing Loading vs Thrust Loading for given maximum velocity')\n",
        "# plt.plot(x,z,color='orange',linestyle='--',linewidth='01',markersize=0.000005)\n",
        "# plt.plot(x,w,color='lime',linestyle='--',linewidth='01',markersize=0.000005)\n",
        "plt.title(\"Wing Loading v/s Thrust Loading\")\n",
        "plt.xlabel(\"Wing Loading\")\n",
        "plt.ylabel(\"Thrust Loading\")\n",
        "plt.axvspan(xmin = u, xmax = v, color = 'deeppink', alpha=0.2)\n",
        "plt.ylim([0,0.4])\n",
        "plt.xlim([0,20000])\n",
        "# plt.fill_between(bound, bound2, zero , color='deeppink')\n",
        "# plt.legend()\n",
        "plt.grid(linestyle = '--')\n",
        "plt.show()\n",
        "\n",
        "print(u,v)\n",
        "print(minp)\n",
        "print(mint)"
      ]
    },
    {
      "cell_type": "markdown",
      "metadata": {
        "id": "DA3qUQJ1E3RX"
      },
      "source": [
        "##Wing loading based on the takeoff run"
      ]
    },
    {
      "cell_type": "code",
      "execution_count": null,
      "metadata": {
        "colab": {
          "base_uri": "https://localhost:8080/",
          "height": 283
        },
        "id": "E2vxJlrLu4KG",
        "outputId": "2edbd526-d66b-4c4f-8d39-5fc9f013cbb7"
      },
      "outputs": [
        {
          "data": {
            "text/plain": [
              "[<matplotlib.lines.Line2D at 0x7f77d006eb50>]"
            ]
          },
          "execution_count": 1,
          "metadata": {},
          "output_type": "execute_result"
        },
        {
          "data": {
            "image/png": "[encoded data removed]",
            "text/plain": [
              "<Figure size 432x288 with 1 Axes>"
            ]
          },
          "metadata": {},
          "output_type": "display_data"
        }
      ],
      "source": [
        "import numpy as np\n",
        "import math\n",
        "import matplotlib.pyplot as plt\n",
        "\n",
        "\n",
        "\n",
        "def T_Sto(p):\n",
        "  C_D0to=0.01527+0.01+0.006\n",
        "  C_Lto=2.03\n",
        "  C_Dto=C_D0to+0.0499*C_Lto**2\n",
        "  u=0.04\n",
        "  rho=1.225\n",
        "  g=9.81\n",
        "  S_to=2000 # roughly 75\n",
        "  C_Dg= C_Dto-(u*2.03)\n",
        "  C_Lr= (2*157026.4387*g)/(rho*47.57*(1.2*56.5)*(1.2*56.5))\n",
        "  e=2.71828\n",
        "  num = u-(u+C_Dg/C_Lr)*pow(e,0.6*rho*g*C_Dg*S_to/p)\n",
        "  den = 1-pow(e,0.6*rho*g*C_Dg*S_to/p)\n",
        "  return num/den\n",
        "\n",
        "\n",
        "x = np.linspace(100,20000,1000)\n",
        "y = T_Sto(x)\n",
        "plt.plot(x,y, color='orange')\n",
        "\n",
        "\n",
        "\n"
      ]
    },
    {
      "cell_type": "markdown",
      "metadata": {
        "id": "NTjd8EJumXSb"
      },
      "source": [
        "# Wing loading for stall speed"
      ]
    },
    {
      "cell_type": "code",
      "execution_count": null,
      "metadata": {
        "colab": {
          "base_uri": "https://localhost:8080/"
        },
        "id": "CouvjvS1mWHK",
        "outputId": "4d89acd7-8c56-43bb-9f84-4d331e3be11c"
      },
      "outputs": [
        {
          "name": "stdout",
          "output_type": "stream",
          "text": [
            "6910.254146484375\n"
          ]
        }
      ],
      "source": [
        "import numpy as np\n",
        "import matplotlib.pyplot as plt\n",
        "\n",
        "CL_max=2.39\n",
        "rho=1.293\n",
        "V_stall=66.875\n",
        "\n",
        "W_S=0.5*rho*V_stall*V_stall*CL_max\n",
        "\n",
        "w_s_left=W_S-0.05*W_S\n",
        "w_s_right=W_S+0.05*W_S\n",
        "\n",
        "print(W_S)\n",
        "\n",
        "# print(w_s_left)\n",
        "# print(w_s_right)\n",
        "\n"
      ]
    },
    {
      "cell_type": "code",
      "execution_count": null,
      "metadata": {
        "colab": {
          "base_uri": "https://localhost:8080/",
          "height": 269
        },
        "id": "qbA6kQ783T_m",
        "outputId": "7ae35e03-c061-4b3b-be5c-c875072d8682"
      },
      "outputs": [
        {
          "data": {
            "image/png": "[encoded data removed]",
            "text/plain": [
              "<Figure size 432x288 with 1 Axes>"
            ]
          },
          "metadata": {},
          "output_type": "display_data"
        }
      ],
      "source": [
        "import numpy as np\n",
        "import matplotlib.pyplot as plt\n",
        "\n",
        "def t_rc_min(p):\n",
        "  rho = 1.225\n",
        "  v = 100\n",
        "  v_c = 12.7\n",
        "  factor = 0.5*rho*v*v\n",
        "  t = v_c/v + factor*(2*F1/p + F2)\n",
        "  return t\n",
        "\n",
        "def t_Hmax(p):\n",
        "  t = np.sqrt(4*K*(F1+F2*p))\n",
        "  return t\n",
        "\n",
        "def t_H(p):\n",
        "  CL_LD_max = np.sqrt(CDo/K)\n",
        "  q_Hmax = W_S/CL_LD_max\n",
        "  t = 2*q_Hmax*(F1/p + F2)\n",
        "  return t\n",
        "\n",
        "def W_f(p):\n",
        "  R=7000 #range in km\n",
        "  TSFC=0.0000159755 #in SI\n",
        "  rho_0 = 1.225\n",
        "  q_cruise = 0.5*0.312*v_cruise**2\n",
        "  F3 = K/q_cruise**2\n",
        "  return 1000*R*TSFC*((rho_0*0.5*q_cruise)**0.5)*((F1/p)+F2+F3*p)\n",
        "\n",
        "def t(p):\n",
        "  rho = 0.317872\n",
        "  vmax = 1.2*v_cruise\n",
        "  q = 0.5*rho*vmax*vmax\n",
        "  F3 = K/q**2\n",
        "  result = (q/p)*(F1 + F2*p + F3*p*p)\n",
        "  return result\n",
        "\n",
        "def T_Sto(p):\n",
        "  C_D0to=0.01567+0.01+0.006\n",
        "  C_Lto=2.03\n",
        "  C_Dto=C_D0to+0.0499*C_Lto**2\n",
        "  u=0.04\n",
        "  rho=1.225\n",
        "  g=9.81\n",
        "  S_to=2000 # roughly 75\n",
        "  C_Dg= C_Dto-(u*2.03)\n",
        "  C_Lr= (2*156687*g)/(rho*43.89*(73.5625)*(73.5625))\n",
        "  e=2.71828\n",
        "  num = u-(u+C_Dg/C_Lr)*pow(e,0.6*rho*g*C_Dg*S_to/p)\n",
        "  den = 1-pow(e,0.6*rho*g*C_Dg*S_to/p)\n",
        "  return num/den\n",
        "\n",
        "def t_v(p):\n",
        "  v = 851*5/18 #m/s\n",
        "  rho = 0.317872 #kg/m3\n",
        "  qp = 0.5*rho*v**2\n",
        "  F3 = K/qp**2\n",
        "  t = qp*(F1/p + F2 + F3*p)\n",
        "  return t\n",
        "\n",
        "x = np.linspace(100,20000,1000)\n",
        "# p_land = 3773.555921566655\n",
        "y_roc = t_rc_min(x)\n",
        "y_Hmax = t_Hmax(x)\n",
        "y_H = t_H(x)\n",
        "y_range = W_f(x)\n",
        "p_cruise = t_v(x)\n",
        "p_stall = 6910.254146484375\n",
        "y_maxV = t(x)\n",
        "y_to = T_Sto(x)\n",
        "# plt.axvline(x=p_stall, linestyle = '--' ,label = 'Stall Velocity')\n",
        "# plt.plot(x,p_cruise, linestyle = '--' ,color = 'blue', label = 'Cruise Velocity')\n",
        "# plt.axvline(x=p_land, color = 'red', label = 'Landing Distance',alpha=0.5)\n",
        "# plt.plot(x,y_roc,label='Rate of climb')\n",
        "# plt.plot(x,y_Hmax, color = 'purple', label='Maximum Altitude')\n",
        "# plt.plot(x,y_H ,color='black', label='error')\n",
        "plt.plot(x,y_range, color='yellow', label='Range')\n",
        "# plt.plot(x,y_maxV,color='deeppink', label='Maximum speed')\n",
        "# plt.plot(x,y_to, color = 'orange', label='Take off run')\n",
        "# plt.axvline(x=3773.55, linestyle = '--', label = 'Landing')\n",
        "plt.ylim([0,0.4])\n",
        "plt.legend()\n",
        "plt.show()"
      ]
    },
    {
      "cell_type": "markdown",
      "metadata": {
        "id": "SEluyW0UtLrB"
      },
      "source": [
        "Wing Design"
      ]
    },
    {
      "cell_type": "code",
      "execution_count": null,
      "metadata": {
        "colab": {
          "background_save": true,
          "base_uri": "https://localhost:8080/"
        },
        "id": "PuLu9WDcQ_H2",
        "outputId": "d4f152a2-2a6f-4f85-de37-26e5ce669ef4"
      },
      "outputs": [
        {
          "name": "stdout",
          "output_type": "stream",
          "text": [
            "weight before cruise =  1603155.083418 weight after cruise =   936791.6900425144\n",
            "C_l_max1\n",
            "Cruise airfoil CL =  0.6864572185427763 Max airfoil CL =  1.8795587926690303\n",
            "3.2411587926690304\n",
            "33069518.067595232\n",
            "0.6178114966884987\n"
          ]
        }
      ],
      "source": [
        "#Airfoil selection\n",
        "import numpy as np\n",
        "\n",
        "W_to = 171913*9.81\n",
        "w_take = 0.98\n",
        "w_climb = 0.97\n",
        "\n",
        "w_before_cruise = W_to*w_take*w_climb #1603155\n",
        "\n",
        "w_fraction_cruise = 0.882782185668131\n",
        "w_fraction_loitre = 0.9853890730770957\n",
        "\n",
        "w_after_cruise = w_before_cruise*w_fraction_cruise*w_fraction_loitre*w_fraction_cruise\n",
        "w_after_cruise = w_after_cruise-30000*9.81 #936785.5\n",
        "\n",
        "print(r\"weight before cruise = \" , w_before_cruise, \"weight after cruise =  \", w_after_cruise)\n",
        "\n",
        "w_average = (w_before_cruise + w_after_cruise)/2 #1269970\n",
        "\n",
        "S = 222\n",
        "rho_c = 0.317872\n",
        "V_c = 236\n",
        "\n",
        "C_Lc = (2*w_average)/(0.35*V_c*V_c*S)\n",
        "C_Lc_Wing = C_Lc/0.95\n",
        "C_L_i = C_Lc_Wing/0.9\n",
        "V_stall=66.9\n",
        "C_l_max1 = 2*W_to/(1.225*V_stall*V_stall*S)\n",
        "C_l_gross = C_l_max1/(0.95*0.9)\n",
        "print(\"C_l_max1\")\n",
        "#double-slotted flaps + LE slats\n",
        "Cf_by_C = 0.601 # Airbus A310 full\n",
        "# double slotted flaps (dsf)\n",
        "del_Cl_dsf = 1.6*Cf_by_C\n",
        "# leading edge slats\n",
        "del_Cl_les = 0.4\n",
        "del_Cl_HLD = del_Cl_les + del_Cl_dsf\n",
        "C_lmax = C_l_gross - del_Cl_HLD\n",
        "print(\"Cruise airfoil CL = \",C_L_i,\"Max airfoil CL = \", C_lmax)\n",
        "print(C_l_gross)\n",
        "#Reynolds number\n",
        "u = 1.195*10**(-5)\n",
        "AR = 8\n",
        "b = np.sqrt(AR*S)\n",
        "c = b/AR\n",
        "Re_c = rho_c*V_c*c/u\n",
        "print(Re_c)\n",
        "print(C_Lc_Wing)"
      ]
    },
    {
      "cell_type": "markdown",
      "source": [
        "Fuselage sizing"
      ],
      "metadata": {
        "id": "Y5Kc--JxXpIU"
      }
    },
    {
      "cell_type": "markdown",
      "source": [
        "Using the maximum takoff weight"
      ],
      "metadata": {
        "id": "ULeHN4Xse-Gy"
      }
    },
    {
      "cell_type": "code",
      "execution_count": null,
      "metadata": {
        "id": "ielCSd0Q1e5D",
        "colab": {
          "base_uri": "https://localhost:8080/",
          "height": 488
        },
        "outputId": "d876854d-bb8a-4c41-8901-3f09f25fa581"
      },
      "outputs": [
        {
          "output_type": "stream",
          "name": "stdout",
          "text": [
            "0.3169607140324064 0.5091927262588382\n"
          ]
        },
        {
          "output_type": "display_data",
          "data": {
            "text/plain": [
              "<Figure size 640x480 with 1 Axes>"
            ],
            "image/png": "[encoded data removed]"
          },
          "metadata": {}
        },
        {
          "output_type": "stream",
          "name": "stdout",
          "text": [
            "47.92802108604587\n"
          ]
        }
      ],
      "source": [
        "import numpy as np\n",
        "import matplotlib.pyplot as plt\n",
        "\n",
        "Wo = np.array([164000,233000,141000,200000,186880,267619,142000,188240,210000])\n",
        "Fl = np.array([47.4,58.8,45.1,47,48.5,55.35,46.61,50.5,46.59])\n",
        "Wo = Wo*9.81\n",
        "\n",
        "log_Wo = np.log(Wo)\n",
        "log_Fl = np.log(Fl)\n",
        "X=log_Wo\n",
        "y=log_Fl\n",
        "\n",
        "# Calculate slope and intercept of the line\n",
        "slope, intercept = np.polyfit(X, y, 1)\n",
        "L = slope\n",
        "A = np.exp(intercept)\n",
        "print(L,A)\n",
        "\n",
        "# Create the line equation\n",
        "line_eq = f'y = {slope:.2f}x + {intercept:.2f}'\n",
        "\n",
        "# Plot the data points and the best fit line\n",
        "plt.scatter(X, y)\n",
        "plt.plot(X, slope*X + intercept, color='red', label=line_eq)\n",
        "plt.legend()\n",
        "plt.xlabel(r\"log($W_o$)\")\n",
        "plt.ylabel(r\"log($L$)\")\n",
        "# plt.grid()\n",
        "# plt.xlim([11.8,12.6])\n",
        "# plt.ylim([-1.1,-.3])\n",
        "W_ = np.sort(Wo)\n",
        "# print(W_)\n",
        "\n",
        "# plt.scatter(Wo,Fl)\n",
        "# plt.plot(W_, A*(W_**L), color='red', linestyle = '--')\n",
        "# plt.xlim([1200000,2800000])\n",
        "# plt.ylim([40,60])\n",
        "# plt.grid()\n",
        "\n",
        "# Display the plot\n",
        "plt.show()\n",
        "\n",
        "#finding out oyr fuselage length\n",
        "W = 171913*9.81\n",
        "L_1 = A*W**L\n",
        "print(L_1)\n",
        "\n"
      ]
    },
    {
      "cell_type": "markdown",
      "source": [
        "Using wing span"
      ],
      "metadata": {
        "id": "QAWSHaj1fDYs"
      }
    },
    {
      "cell_type": "code",
      "source": [
        "import numpy as np\n",
        "import matplotlib.pyplot as plt\n",
        "\n",
        "b = np.array([43.9,60.3,42.4,50,47.6,50.406,43.41,48.1,50.5])\n",
        "Fl = np.array([47.4,58.8,45.1,47,48.5,55.35,46.61,50.5,46.59])\n",
        "\n",
        "\n",
        "log_b = np.log(b)\n",
        "log_Fl = np.log(Fl)\n",
        "X=log_b\n",
        "y=log_Fl\n",
        "\n",
        "# Calculate slope and intercept of the line\n",
        "slope, intercept = np.polyfit(X, y, 1)\n",
        "L = slope\n",
        "A = np.exp(intercept)\n",
        "print(L,A)\n",
        "\n",
        "# Create the line equation\n",
        "line_eq = f'y = {slope:.2f}x + {intercept:.2f}'\n",
        "\n",
        "b_ = np.sort(b)\n",
        "\n",
        "plt.scatter(X, y)\n",
        "plt.plot(X, slope*X + intercept, color='red', label=line_eq)\n",
        "plt.legend()\n",
        "plt.xlabel(r\"log($b$)\")\n",
        "plt.ylabel(r\"log($L$)\")\n",
        "# plt.scatter(b,Fl)\n",
        "# plt.plot(b_, A*(b_**L), color='red', linestyle = '--')\n",
        "# plt.xlim([40,62.5])\n",
        "# plt.ylim([44,60])\n",
        "# plt.grid()\n",
        "\n",
        "# Display the plot\n",
        "plt.show()\n",
        "\n",
        "#finding out oyr fuselage length\n",
        "b = 44.18\n",
        "L_2 = A*(b**L)\n",
        "print(L_2)\n"
      ],
      "metadata": {
        "colab": {
          "base_uri": "https://localhost:8080/",
          "height": 488
        },
        "id": "Dtja-yWvfIPc",
        "outputId": "a30dd766-87b8-4fc7-aa2a-706451afcd42"
      },
      "execution_count": null,
      "outputs": [
        {
          "output_type": "stream",
          "name": "stdout",
          "text": [
            "0.667313563065978 3.7144607383867934\n"
          ]
        },
        {
          "output_type": "display_data",
          "data": {
            "text/plain": [
              "<Figure size 640x480 with 1 Axes>"
            ],
            "image/png": "[encoded data removed]"
          },
          "metadata": {}
        },
        {
          "output_type": "stream",
          "name": "stdout",
          "text": [
            "46.53473058162609\n"
          ]
        }
      ]
    },
    {
      "cell_type": "code",
      "source": [
        "#For getting the absolute angle of attack of aircraft\n",
        "\n",
        "C_Lto=2.03\n",
        "C_lalpha = 0.1122\n",
        "absolute_alpha = C_Lto/C_lalpha\n",
        "print(absolute_alpha)"
      ],
      "metadata": {
        "colab": {
          "base_uri": "https://localhost:8080/"
        },
        "id": "wG_shgN9l6Mj",
        "outputId": "bd83bfbd-795d-48f7-f739-a46927b42f2f"
      },
      "execution_count": null,
      "outputs": [
        {
          "output_type": "stream",
          "name": "stdout",
          "text": [
            "18.092691622103388\n"
          ]
        }
      ]
    },
    {
      "cell_type": "markdown",
      "source": [],
      "metadata": {
        "id": "xEaDoTrOfDVF"
      }
    }
  ],
  "metadata": {
    "colab": {
      "provenance": [],
      "include_colab_link": true
    },
    "kernelspec": {
      "display_name": "Python 3",
      "name": "python3"
    },
    "language_info": {
      "name": "python"
    }
  },
  "nbformat": 4,
  "nbformat_minor": 0
}